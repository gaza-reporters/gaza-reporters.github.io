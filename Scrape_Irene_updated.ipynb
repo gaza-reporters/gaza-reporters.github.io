{
 "cells": [
  {
   "cell_type": "markdown",
   "id": "8f86368c",
   "metadata": {},
   "source": [
    "## Note:\n",
    "\n",
    "- Irene found the data after exploring the website⬇️ and created a json file calles \"entries.json\"\n",
    "  https://datamanager.cpj.org/api/datamanager/reports/entries?distinct(personId)&include%5B…%5Dnalist%27,%27Media%20Worker%27)&ge(year,1992)&le(year,2024)"
   ]
  },
  {
   "cell_type": "code",
   "execution_count": null,
   "id": "cee71cb8",
   "metadata": {},
   "outputs": [],
   "source": [
    "import json\n",
    "import pandas as pd\n",
    "from pathlib import Path\n",
    "\n",
    "# Provide the full path to the file or use Path\n",
    "file_path = Path(\"~/entries.json\")\n",
    "\n",
    "# Reading JSON data from a file\n",
    "with open(file_path) as f:\n",
    "    json_data = json.load(f)\n",
    "\n",
    "# Converting JSON data to a pandas DataFrame\n",
    "df = pd.DataFrame(json_data)\n",
    "\n",
    "df.to_csv(\"entries.csv\", index=False)"
   ]
  }
 ],
 "metadata": {
  "kernelspec": {
   "display_name": "Python 3 (ipykernel)",
   "language": "python",
   "name": "python3"
  },
  "language_info": {
   "codemirror_mode": {
    "name": "ipython",
    "version": 3
   },
   "file_extension": ".py",
   "mimetype": "text/x-python",
   "name": "python",
   "nbconvert_exporter": "python",
   "pygments_lexer": "ipython3",
   "version": "3.10.3"
  }
 },
 "nbformat": 4,
 "nbformat_minor": 5
}
